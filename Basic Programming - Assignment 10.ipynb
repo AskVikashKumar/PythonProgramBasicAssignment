{
 "cells": [
  {
   "cell_type": "code",
   "execution_count": 6,
   "id": "6cebcb78",
   "metadata": {},
   "outputs": [
    {
     "name": "stdout",
     "output_type": "stream",
     "text": [
      "Enter the No of Entries in a List: 4\n",
      "Enter a element: 2\n",
      "Enter a element: 3\n",
      "Enter a element: -5\n",
      "Enter a element: 6\n",
      "Sum of Elements  6\n"
     ]
    }
   ],
   "source": [
    "# Q1.Write a Python Program to find sum of elements in a list ?\n",
    "\n",
    "def elem_sumList():\n",
    "    k = int(input('Enter the No of Entries in a List: '))\n",
    "    v = []\n",
    "    for itr in range(k):\n",
    "        v.append(int(input('Enter a element: ')))\n",
    "    print('Sum of Elements ',sum(v))\n",
    "\n",
    "elem_sumList()"
   ]
  },
  {
   "cell_type": "code",
   "execution_count": 7,
   "id": "7d0dab3d",
   "metadata": {},
   "outputs": [
    {
     "name": "stdout",
     "output_type": "stream",
     "text": [
      "Enter the No of Entries in a List: 5\n",
      "Enter a element: 2\n",
      "Enter a element: 5\n",
      "Enter a element: 6\n",
      "Enter a element: 1\n",
      "Enter a element: 1\n",
      "Multiply of Elements  60\n"
     ]
    }
   ],
   "source": [
    "# Q2.Write a Python Program to multiply all numbers in the list ?\n",
    "\n",
    "def elem_mulList():\n",
    "    k1 = int(input('Enter the No of Entries in a List: '))\n",
    "    v1 = []\n",
    "    tot = 1\n",
    "    for itr in range(k1):\n",
    "        v1.append(int(input('Enter a element: ')))\n",
    "    for ele in v1:\n",
    "        tot*= ele\n",
    "    print('Multiply of Elements ',tot)\n",
    "\n",
    "elem_mulList()"
   ]
  },
  {
   "cell_type": "code",
   "execution_count": 8,
   "id": "e9d91815",
   "metadata": {},
   "outputs": [
    {
     "name": "stdout",
     "output_type": "stream",
     "text": [
      "Enter the No of elements in a list: 4\n",
      "Enter a Element: 4\n",
      "Enter a Element: 5\n",
      "Enter a Element: 1\n",
      "Enter a Element: 56\n",
      "The Smallest Element is  1\n"
     ]
    }
   ],
   "source": [
    "# Q3.Write a Python Program to find smallest number in the list ?\n",
    "\n",
    "def small_EleinList():\n",
    "    k2 = int(input('Enter the No of elements in a list: '))\n",
    "    v2 = []\n",
    "    for ele in range(k2):\n",
    "        v2.append(int(input('Enter a Element: ')))\n",
    "    print('The Smallest Element is ',min(v2))\n",
    "    \n",
    "small_EleinList()"
   ]
  },
  {
   "cell_type": "code",
   "execution_count": 11,
   "id": "d7800e60",
   "metadata": {},
   "outputs": [
    {
     "name": "stdout",
     "output_type": "stream",
     "text": [
      "Enter the No of elements in a list: 4\n",
      "Enter a Element: 15\n",
      "Enter a Element: 12\n",
      "Enter a Element: 19\n",
      "Enter a Element: 56\n",
      "The Largest Element in [15, 12, 19, 56] is 56\n"
     ]
    }
   ],
   "source": [
    "# Q4.Write a Python Program to find largest number in the list ?\n",
    "\n",
    "def larg_EleinList():\n",
    "    k3 = int(input('Enter the No of elements in a list: '))\n",
    "    v3 = []\n",
    "    for ele in range(k3):\n",
    "        v3.append(int(input('Enter a Element: ')))\n",
    "    print(f'The Largest Element in {v3} is {max(v3)}')\n",
    "\n",
    "larg_EleinList()\n"
   ]
  },
  {
   "cell_type": "code",
   "execution_count": 12,
   "id": "ba659832",
   "metadata": {},
   "outputs": [
    {
     "name": "stdout",
     "output_type": "stream",
     "text": [
      "Enter the Size for List: 5\n",
      "Enter 5 Numbers for List: 15\n",
      "12\n",
      "16\n",
      "18\n",
      "52\n",
      "\n",
      "Second Largest Number = 18\n"
     ]
    }
   ],
   "source": [
    "# Q5.Write a Python Program to find second largest number in the list ?\n",
    "\n",
    "nums = []\n",
    "print(end=\"Enter the Size for List: \")\n",
    "listSize = int(input())\n",
    "print(end=\"Enter \" +str(listSize)+ \" Numbers for List: \")\n",
    "for i in range(listSize):\n",
    "    nums.append(int(input()))\n",
    "    \n",
    "nums.remove(max(nums))\n",
    "print(\"\\nSecond Largest Number = \" + str(max(nums)))\n"
   ]
  },
  {
   "cell_type": "code",
   "execution_count": 13,
   "id": "480c065b",
   "metadata": {},
   "outputs": [
    {
     "name": "stdout",
     "output_type": "stream",
     "text": [
      "Enter the No of elements in a list: 6\n",
      "Enter a Element: 45\n",
      "Enter a Element: 12\n",
      "Enter a Element: 36\n",
      "Enter a Element: 44\n",
      "Enter a Element: 66\n",
      "Enter a Element: 5\n",
      "The 4 Largest Element in [45, 12, 36, 44, 66, 5] is [66, 45, 44, 36]\n"
     ]
    }
   ],
   "source": [
    "# Q6.Write a Python Program to find N largest elements in the list ?\n",
    "\n",
    "def nLarg_EleinList(k):\n",
    "    in_ele = int(input('Enter the No of elements in a list: '))\n",
    "    in_list = []\n",
    "    for ele in range(in_ele):\n",
    "        in_list.append(int(input('Enter a Element: ')))\n",
    "    print(f'The {k} Largest Element in {in_list} is {sorted(in_list, reverse=True)[0:k]}')\n",
    "\n",
    "nLarg_EleinList(4)"
   ]
  },
  {
   "cell_type": "code",
   "execution_count": 14,
   "id": "13c793f0",
   "metadata": {},
   "outputs": [
    {
     "name": "stdout",
     "output_type": "stream",
     "text": [
      "Enter the No of elements in a list: 4\n",
      "Enter a Element: 45\n",
      "Enter a Element: 12\n",
      "Enter a Element: 16\n",
      "Enter a Element: 0\n",
      "The Even Elements in [45, 12, 16, 0] are [12, 16, 0]\n"
     ]
    }
   ],
   "source": [
    "# Q7.Write a Python Program to find even numbers in the list ?\n",
    "\n",
    "def even_NosinList():\n",
    "    in_ele = int(input('Enter the No of elements in a list: '))\n",
    "    in_list = []\n",
    "    even_list = []\n",
    "    for ele in range(in_ele):\n",
    "        in_list.append(int(input('Enter a Element: ')))\n",
    "    for ele in in_list:\n",
    "        if ele%2 == 0:\n",
    "            even_list.append(ele)\n",
    "    print(f'The Even Elements in {in_list} are {even_list}')\n",
    "\n",
    "even_NosinList()"
   ]
  },
  {
   "cell_type": "code",
   "execution_count": 15,
   "id": "0114e9aa",
   "metadata": {},
   "outputs": [
    {
     "name": "stdout",
     "output_type": "stream",
     "text": [
      "Enter the No of elements in a list: 4\n",
      "Enter a Element: 16\n",
      "Enter a Element: 18\n",
      "Enter a Element: 19\n",
      "Enter a Element: 0\n",
      "The Odd Elements in [16, 18, 19, 0] are [19]\n"
     ]
    }
   ],
   "source": [
    "# Q8.Write a Python Program to find odd numbers in the list ?\n",
    "\n",
    "def odd_NosinList():\n",
    "    in_ele = int(input('Enter the No of elements in a list: '))\n",
    "    in_list = []\n",
    "    odd_list = []\n",
    "    for ele in range(in_ele):\n",
    "        in_list.append(int(input('Enter a Element: ')))\n",
    "    for ele in in_list:\n",
    "        if ele%2 != 0:\n",
    "            odd_list.append(ele)\n",
    "    print(f'The Odd Elements in {in_list} are {odd_list}')\n",
    "\n",
    "odd_NosinList()\n"
   ]
  },
  {
   "cell_type": "code",
   "execution_count": 3,
   "id": "1ed3094e",
   "metadata": {},
   "outputs": [
    {
     "name": "stdout",
     "output_type": "stream",
     "text": [
      "Enter all elements of the list: [4,[],6,8,9,12]\n",
      "There is an Empty list in [4, [], 6, 8, 9, 12] at Position 1\n",
      "The List after removing [] is [4, 6, 8, 9, 12]\n"
     ]
    }
   ],
   "source": [
    "# Q9.Write a Python Program to remove empty list from list ?\n",
    "\n",
    "def rmv_EmpList():\n",
    "    in_list = eval(input('Enter all elements of the list: '))\n",
    "    if [] in in_list:\n",
    "        print(f'There is an Empty list in {in_list} at Position {in_list.index([])}')\n",
    "        in_list.remove([])\n",
    "        print(f'The List after removing [] is {in_list}')\n",
    "    else:\n",
    "        print(f'There is no [] List in the list {in_list}')\n",
    "        \n",
    "rmv_EmpList()"
   ]
  },
  {
   "cell_type": "code",
   "execution_count": 4,
   "id": "82a63821",
   "metadata": {},
   "outputs": [
    {
     "name": "stdout",
     "output_type": "stream",
     "text": [
      "Enter a list[7,8,9,45]\n",
      "[7, 8, 9, 45] 2274999848576\n",
      "[7, 8, 9, 45] 2274999844992\n"
     ]
    }
   ],
   "source": [
    "# Q10.Write a Python Program to Cloning or Copying a list ?\n",
    "\n",
    "import copy\n",
    "\n",
    "def cloneList():\n",
    "    in_list = eval(input('Enter a list'))\n",
    "    print(in_list, id(in_list))\n",
    "    cloned_list = in_list.copy()\n",
    "    print(cloned_list, id(cloned_list))\n",
    "\n",
    "cloneList()"
   ]
  },
  {
   "cell_type": "code",
   "execution_count": 5,
   "id": "a00581c7",
   "metadata": {},
   "outputs": [
    {
     "name": "stdout",
     "output_type": "stream",
     "text": [
      "Enter the elements of the list: [7,8,9,9,10,5,6,5,5,5,4]\n",
      "Enter the element to find: 5\n",
      "There are 4 occurences of 5 in [7, 8, 9, 9, 10, 5, 6, 5, 5, 5, 4]\n"
     ]
    }
   ],
   "source": [
    "# Q11.Write a Python Program to count occurences of an element in a list ?\n",
    "\n",
    "def checkOccurence():\n",
    "    in_list = eval(input('Enter the elements of the list: '))\n",
    "    in_num = eval(input('Enter the element to find: '))\n",
    "    count = 0\n",
    "    if in_num in in_list:\n",
    "        for ele in in_list:\n",
    "            if ele == in_num:\n",
    "                count = count+1\n",
    "    print(f'There are {count} occurences of {in_num} in {in_list}')\n",
    "    \n",
    "checkOccurence()"
   ]
  }
 ],
 "metadata": {
  "kernelspec": {
   "display_name": "Python 3 (ipykernel)",
   "language": "python",
   "name": "python3"
  },
  "language_info": {
   "codemirror_mode": {
    "name": "ipython",
    "version": 3
   },
   "file_extension": ".py",
   "mimetype": "text/x-python",
   "name": "python",
   "nbconvert_exporter": "python",
   "pygments_lexer": "ipython3",
   "version": "3.9.7"
  }
 },
 "nbformat": 4,
 "nbformat_minor": 5
}
