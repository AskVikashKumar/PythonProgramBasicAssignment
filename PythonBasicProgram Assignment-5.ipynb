{
 "cells": [
  {
   "cell_type": "markdown",
   "id": "48959fcd",
   "metadata": {},
   "source": [
    "##### Q1. Write a Python Program to Find LCM?"
   ]
  },
  {
   "cell_type": "code",
   "execution_count": 1,
   "id": "32c958cf",
   "metadata": {},
   "outputs": [
    {
     "name": "stdout",
     "output_type": "stream",
     "text": [
      "Enter first number: 12\n",
      "Enter second number: 16\n",
      "The L.C.M. of 12 and 16 is 48\n"
     ]
    }
   ],
   "source": [
    "def calculate_lcm(x, y):  \n",
    "    # selecting the greater number  \n",
    "    if x > y:  \n",
    "        greater = x  \n",
    "    else:  \n",
    "        greater = y  \n",
    "    while(True):  \n",
    "        if((greater % x == 0) and (greater % y == 0)):  \n",
    "            lcm = greater  \n",
    "            break  \n",
    "        greater += 1  \n",
    "    return lcm    \n",
    "  \n",
    "# taking input from users  \n",
    "num1 = int(input(\"Enter first number: \"))  \n",
    "num2 = int(input(\"Enter second number: \"))  \n",
    "# printing the result for the users  \n",
    "print(\"The L.C.M. of\", num1,\"and\", num2,\"is\", calculate_lcm(num1, num2))  "
   ]
  },
  {
   "cell_type": "markdown",
   "id": "fa2f0738",
   "metadata": {},
   "source": [
    "##### Q2. Write a Python Program to find HCF ?"
   ]
  },
  {
   "cell_type": "code",
   "execution_count": 5,
   "id": "2a438d7a",
   "metadata": {},
   "outputs": [
    {
     "name": "stdout",
     "output_type": "stream",
     "text": [
      "Enter first number: 9\n",
      "Enter second number: 64\n",
      "The HCF. of 9 and 64 is 1\n"
     ]
    }
   ],
   "source": [
    "def calculate_Hcf(x_term,y_term):\n",
    "     # selecting the smaller number  \n",
    "    if x_term > y_term:  \n",
    "        smaller = y_term  \n",
    "    else:  \n",
    "        smaller = x_term  \n",
    "    for i in range(1,smaller + 1):  \n",
    "        if((x_term % i == 0) and (y_term % i == 0)):  \n",
    "            hcf = i  \n",
    "            \n",
    "    return hcf  \n",
    "# taking input from users  \n",
    "num1 = int(input(\"Enter first number: \"))  \n",
    "num2 = int(input(\"Enter second number: \"))  \n",
    "# printing the result for the users  \n",
    "print(\"The HCF. of\", num1,\"and\", num2,\"is\", calculate_Hcf(num1, num2))  "
   ]
  },
  {
   "cell_type": "markdown",
   "id": "cc225594",
   "metadata": {},
   "source": [
    "##### Q3. Write a Python Program to Convert Decimal to Binary, Octal and Hexadecimal?"
   ]
  },
  {
   "cell_type": "code",
   "execution_count": 6,
   "id": "1e0eebee",
   "metadata": {},
   "outputs": [
    {
     "name": "stdout",
     "output_type": "stream",
     "text": [
      "Enter a decimal  number: 15\n",
      "Binary:       0b1111\n",
      "Octal:        0o17\n",
      "Hexadecimal:  0xf\n"
     ]
    }
   ],
   "source": [
    "def con_tootbinhexa(num):\n",
    "    print(\"Binary:      \", bin(num))\n",
    "    print(\"Octal:       \", oct(num))\n",
    "    print(\"Hexadecimal: \", hex(num))\n",
    "\n",
    "ch = int(input(\"Enter a decimal  number: \"))  \n",
    "con_tootbinhexa(ch)"
   ]
  },
  {
   "cell_type": "markdown",
   "id": "f5b791a1",
   "metadata": {},
   "source": [
    "##### Q4. Write a Python Program to Find the ASCII value of  a Character ?"
   ]
  },
  {
   "cell_type": "code",
   "execution_count": 8,
   "id": "416c72db",
   "metadata": {},
   "outputs": [
    {
     "name": "stdout",
     "output_type": "stream",
     "text": [
      "Enter a Character: a\n",
      "The ASCII value of char a is:  97\n"
     ]
    }
   ],
   "source": [
    "cho = input('Enter a Character: ')\n",
    "if len(cho) > 1:\n",
    "        print('Please Enter a Single Character')\n",
    "else:\n",
    "        print(\"The ASCII value of char \" + cho + \" is: \",ord(cho))"
   ]
  },
  {
   "cell_type": "markdown",
   "id": "79de2f16",
   "metadata": {},
   "source": [
    "##### Q5. Write a Python Program to Make a Simple Calculator with 4 basic mathematical operations?"
   ]
  },
  {
   "cell_type": "code",
   "execution_count": 1,
   "id": "24656dc9",
   "metadata": {},
   "outputs": [
    {
     "name": "stdout",
     "output_type": "stream",
     "text": [
      "Please select the operation.\n",
      "a. Add\n",
      "b. Subtract\n",
      "c. Multiply\n",
      "d. Divide\n",
      "Please enter choice (a/ b/ c/ d): a\n",
      "Please enter the first number: 5\n",
      "Please enter the second number: 5\n",
      "5  +  5  =  10\n"
     ]
    }
   ],
   "source": [
    "try: \n",
    "    \n",
    "    def add(P, Q):    \n",
    "       # This function is used for adding two numbers   \n",
    "       return P + Q   \n",
    "    def subtract(P, Q):   \n",
    "       # This function is used for subtracting two numbers   \n",
    "       return P - Q   \n",
    "    def multiply(P, Q):   \n",
    "       # This function is used for multiplying two numbers   \n",
    "       return P * Q   \n",
    "    def divide(P, Q):   \n",
    "       # This function is used for dividing two numbers    \n",
    "       return P / Q    \n",
    "    # Now we will take inputs from the user    \n",
    "    print (\"Please select the operation.\")    \n",
    "    print (\"a. Add\")    \n",
    "    print (\"b. Subtract\")    \n",
    "    print (\"c. Multiply\")    \n",
    "    print (\"d. Divide\")    \n",
    "        \n",
    "    choice = input(\"Please enter choice (a/ b/ c/ d): \")    \n",
    "        \n",
    "    num_1 = int (input (\"Please enter the first number: \"))    \n",
    "    num_2 = int (input (\"Please enter the second number: \"))    \n",
    "        \n",
    "    if choice == 'a':    \n",
    "        print (num_1, \" + \", num_2, \" = \", add(num_1, num_2))    \n",
    "        \n",
    "    elif choice == 'b':    \n",
    "        print (num_1, \" - \", num_2, \" = \", subtract(num_1, num_2))    \n",
    "        \n",
    "    elif choice == 'c':    \n",
    "        print (num1, \" * \", num2, \" = \", multiply(num1, num2))    \n",
    "    elif choice == 'd':    \n",
    "        print (num_1, \" / \", num_2, \" = \", divide(num_1, num_2))    \n",
    "    else:    \n",
    "        print (\"This is an invalid input\")            \n",
    "except Exception as e:\n",
    "    print(e)"
   ]
  }
 ],
 "metadata": {
  "kernelspec": {
   "display_name": "Python 3 (ipykernel)",
   "language": "python",
   "name": "python3"
  },
  "language_info": {
   "codemirror_mode": {
    "name": "ipython",
    "version": 3
   },
   "file_extension": ".py",
   "mimetype": "text/x-python",
   "name": "python",
   "nbconvert_exporter": "python",
   "pygments_lexer": "ipython3",
   "version": "3.9.7"
  }
 },
 "nbformat": 4,
 "nbformat_minor": 5
}
