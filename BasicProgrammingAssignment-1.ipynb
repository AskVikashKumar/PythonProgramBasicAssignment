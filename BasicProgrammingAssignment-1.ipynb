{
 "cells": [
  {
   "cell_type": "raw",
   "id": "c32a4e23",
   "metadata": {},
   "source": [
    "Q1.\tWrite a Python program to print \"Hello Python\"?"
   ]
  },
  {
   "cell_type": "code",
   "execution_count": 1,
   "id": "c276f8b6",
   "metadata": {},
   "outputs": [
    {
     "name": "stdout",
     "output_type": "stream",
     "text": [
      "Enter String to Display:-heloo\n",
      "heloo\n"
     ]
    }
   ],
   "source": [
    "s= input(\"Enter String to Display:-\")\n",
    "print(s)"
   ]
  },
  {
   "cell_type": "raw",
   "id": "2550dd47",
   "metadata": {},
   "source": [
    "Q2.\tWrite a Python program to do arithmetical operations addition and division.?"
   ]
  },
  {
   "cell_type": "code",
   "execution_count": 2,
   "id": "dd34fcdb",
   "metadata": {},
   "outputs": [
    {
     "name": "stdout",
     "output_type": "stream",
     "text": [
      "Enter the first number (Type Float or Int) :- 45.36\n",
      "Enter the second number (Type Float or Int) :-36.25\n",
      "Choose a math operation (+, -, *,/):-+\n",
      "Sum of two numbers is:- 81.61\n"
     ]
    }
   ],
   "source": [
    "num_1 = float(input(\"Enter the first number (Type Float or Int) :-\"))\n",
    "num_2 = float(input(\"Enter the second number (Type Float or Int) :-\"))\n",
    "opern = input(\"Choose a math operation (+, -, *,/):-\")\n",
    "if opern == \"+\":\n",
    "            print(\"Sum of two numbers is:-\",num_1+num_2)\n",
    "elif opern == \"-\":\n",
    "       print (\"Substract of two numbers is:-\",num_1-num_2)\n",
    "elif opern == \"*\":\n",
    "        print (\"Multiply of two numbers is:-\",num_1*num_2)\n",
    "elif opern == \"/\":\n",
    "        if(num_2 > 0):\n",
    "            print (\"Divide of two numbers is:-\",num_1/num_2)     \n",
    "        else:\n",
    "            print(\"The second number not greater than zero.\")        \n",
    "else :\n",
    "    print(\"The math operation entered by you not available.\")"
   ]
  },
  {
   "cell_type": "raw",
   "id": "12f565c1",
   "metadata": {},
   "source": [
    "Q3.\tWrite a Python program to find the area of a triangle?"
   ]
  },
  {
   "cell_type": "code",
   "execution_count": 3,
   "id": "13526e45",
   "metadata": {},
   "outputs": [
    {
     "name": "stdout",
     "output_type": "stream",
     "text": [
      "Enter the first side (Type Float or Int) :- 4.25\n",
      "Enter the second side (Type Float or Int) :-6.2\n",
      "Enter the third side (Type Float or Int) :-1\n",
      "The semi-perimeter of three sides is : 5.725\n",
      "The area of the triangle is (2.6657064508904814e-16+4.353429009484939j)\n"
     ]
    }
   ],
   "source": [
    "side_first = float(input(\"Enter the first side (Type Float or Int) :-\"))\n",
    "side_second = float(input(\"Enter the second side (Type Float or Int) :-\"))\n",
    "side_third = float(input(\"Enter the third side (Type Float or Int) :-\"))\n",
    "# calculate the semi-perimeter\n",
    "s = (side_first + side_second + side_third)/2\n",
    "print(\"The semi-perimeter of three sides is :\",s)\n",
    "# calculate the area  \n",
    "area = (s*(s-side_first)*(s-side_second)*(s-side_third)) ** 0.5  \n",
    "print(\"The area of the triangle is\",area)  "
   ]
  },
  {
   "cell_type": "raw",
   "id": "c3fb6772",
   "metadata": {},
   "source": [
    "Q4.\tWrite a Python program to swap two variables?"
   ]
  },
  {
   "cell_type": "code",
   "execution_count": 4,
   "id": "28622e40",
   "metadata": {},
   "outputs": [
    {
     "name": "stdout",
     "output_type": "stream",
     "text": [
      "Enter the first swap type :-\"Hi\"\n",
      "Enter the second swap type :-\"Agent 47\"\n",
      "Before Swapping two numbers are \"Hi\" \"Agent 47\"\n",
      "After Swapping two numbers are \"Agent 47\" \"Hi\"\n"
     ]
    }
   ],
   "source": [
    "# temp variable used for swapping the number\n",
    "Swap_number1 = input(\"Enter the first swap type :-\")\n",
    "Swap_number2 = input(\"Enter the second swap type :-\")\n",
    "print(\"Before Swapping two numbers are\",Swap_number1,Swap_number2 )\n",
    "temp = Swap_number1 \n",
    "Swap_number1  = Swap_number2\n",
    "Swap_number2 = temp\n",
    "print(\"After Swapping two numbers are\",Swap_number1,Swap_number2 )  "
   ]
  },
  {
   "cell_type": "raw",
   "id": "808b618b",
   "metadata": {},
   "source": [
    "Write a Python program to generate a random number?"
   ]
  },
  {
   "cell_type": "code",
   "execution_count": 5,
   "id": "48156c4a",
   "metadata": {},
   "outputs": [
    {
     "name": "stdout",
     "output_type": "stream",
     "text": [
      "Enter the start range number(only type int):-4\n",
      "Enter the ending range number(only type int):-9\n",
      "The Random Number generated is :- 7\n"
     ]
    }
   ],
   "source": [
    "import random\n",
    "start_numbe = int(input(\"Enter the start range number(only type int):-\"))\n",
    "end_numbe = int(input(\"Enter the ending range number(only type int):-\"))\n",
    "randnum = random.randint(start_numbe, end_numbe)\n",
    "print(\"The Random Number generated is :-\", randnum)"
   ]
  },
  {
   "cell_type": "code",
   "execution_count": null,
   "id": "a63e2e59",
   "metadata": {},
   "outputs": [],
   "source": []
  }
 ],
 "metadata": {
  "kernelspec": {
   "display_name": "Python 3 (ipykernel)",
   "language": "python",
   "name": "python3"
  },
  "language_info": {
   "codemirror_mode": {
    "name": "ipython",
    "version": 3
   },
   "file_extension": ".py",
   "mimetype": "text/x-python",
   "name": "python",
   "nbconvert_exporter": "python",
   "pygments_lexer": "ipython3",
   "version": "3.9.7"
  }
 },
 "nbformat": 4,
 "nbformat_minor": 5
}
