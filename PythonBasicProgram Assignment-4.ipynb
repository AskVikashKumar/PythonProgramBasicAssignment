{
 "cells": [
  {
   "cell_type": "markdown",
   "id": "2847812d",
   "metadata": {},
   "source": [
    "##### Q1. Write a Python Program to Find the Factorial of a Number?"
   ]
  },
  {
   "cell_type": "code",
   "execution_count": 1,
   "id": "c3e21fc0",
   "metadata": {},
   "outputs": [
    {
     "name": "stdout",
     "output_type": "stream",
     "text": [
      "Enter a number: 10\n",
      "The factorial of 10 is 3628800\n"
     ]
    }
   ],
   "source": [
    "Usr_num = int(input(\"Enter a number: \"))    \n",
    "factorial = 1    \n",
    "if Usr_num < 0: \n",
    "    print(\" Factorial does not exist for negative numbers\")    \n",
    "       \n",
    "elif Usr_num == 0:    \n",
    "       print(\"The factorial of 0 is 1\")    \n",
    "else:    \n",
    "       for i in range(1,Usr_num + 1):    \n",
    "               factorial = factorial*i    \n",
    "print(\"The factorial of\",Usr_num,\"is\",factorial)   "
   ]
  },
  {
   "cell_type": "markdown",
   "id": "c069b61e",
   "metadata": {},
   "source": [
    "##### Q2.Write a Python Program to display the multiplication table ?"
   ]
  },
  {
   "cell_type": "code",
   "execution_count": 2,
   "id": "a54dc5dd",
   "metadata": {},
   "outputs": [
    {
     "name": "stdout",
     "output_type": "stream",
     "text": [
      "Enter a number: 15\n",
      "Enter no of entries: 25\n",
      "15 X 1 = 15\n",
      "15 X 2 = 30\n",
      "15 X 3 = 45\n",
      "15 X 4 = 60\n",
      "15 X 5 = 75\n",
      "15 X 6 = 90\n",
      "15 X 7 = 105\n",
      "15 X 8 = 120\n",
      "15 X 9 = 135\n",
      "15 X 10 = 150\n",
      "15 X 11 = 165\n",
      "15 X 12 = 180\n",
      "15 X 13 = 195\n",
      "15 X 14 = 210\n",
      "15 X 15 = 225\n",
      "15 X 16 = 240\n",
      "15 X 17 = 255\n",
      "15 X 18 = 270\n",
      "15 X 19 = 285\n",
      "15 X 20 = 300\n",
      "15 X 21 = 315\n",
      "15 X 22 = 330\n",
      "15 X 23 = 345\n",
      "15 X 24 = 360\n",
      "15 X 25 = 375\n"
     ]
    }
   ],
   "source": [
    "def gene_Multitable(base,entries):\n",
    "    for x in range(1,entries+1):\n",
    "        print(f'{base} X {x} = {base*x}')\n",
    "\n",
    "num = int(input('Enter a number: '))\n",
    "values = int(input('Enter no of entries: '))\n",
    "gene_Multitable(num,values)"
   ]
  },
  {
   "cell_type": "markdown",
   "id": "91f64feb",
   "metadata": {},
   "source": [
    "##### Q3.Write a Python Program to print the fibonacci sequence ?"
   ]
  },
  {
   "cell_type": "code",
   "execution_count": 3,
   "id": "b2f7c172",
   "metadata": {},
   "outputs": [
    {
     "name": "stdout",
     "output_type": "stream",
     "text": [
      "How many terms the user wants to print? 10\n",
      "The fibonacci sequence of the numbers is:\n",
      "0\n",
      "1\n",
      "1\n",
      "2\n",
      "3\n",
      "5\n",
      "8\n",
      "13\n",
      "21\n",
      "34\n"
     ]
    }
   ],
   "source": [
    "n_terms = int(input (\"How many terms the user wants to print? \"))  \n",
    "      \n",
    "n_1 = 0  \n",
    "n_2 = 1  \n",
    "count = 0  \n",
    "if n_terms <= 0:  \n",
    "        print (\"Please enter a positive integer, the given number is not valid\")  \n",
    "\n",
    "elif n_terms == 1:  \n",
    "        print (\"The Fibonacci sequence of the numbers up to\", n_terms, \": \")  \n",
    "        print(n_1)  \n",
    "\n",
    "else:  \n",
    "        print (\"The fibonacci sequence of the numbers is:\")  \n",
    "        while count < n_terms:  \n",
    "            print(n_1)  \n",
    "            nth = n_1 + n_2  \n",
    "           # At last, we will update values  \n",
    "            n_1 = n_2  \n",
    "            n_2 = nth  \n",
    "            count += 1  \n",
    "\n"
   ]
  },
  {
   "cell_type": "markdown",
   "id": "d23872ee",
   "metadata": {},
   "source": [
    "##### Q4.Write a Python Program to check Armstrong number ?"
   ]
  },
  {
   "cell_type": "code",
   "execution_count": 4,
   "id": "a191a740",
   "metadata": {},
   "outputs": [
    {
     "name": "stdout",
     "output_type": "stream",
     "text": [
      "Enter Number: 153\n",
      "153 is an Armstrong number\n"
     ]
    }
   ],
   "source": [
    "def Armstrong(n,o):\n",
    "    sum = 0\n",
    "    temp = n\n",
    "    while temp > 0:\n",
    "        digit = temp % 10\n",
    "        sum += digit ** o\n",
    "        temp = temp//10\n",
    "    if n == sum:\n",
    "        print(n,\"is an Armstrong number\")\n",
    "    else:\n",
    "        print(n,\"is not an Armstrong number\")\n",
    "    \n",
    "num = int(input(\"Enter Number: \"))\n",
    "order = len(str(num))\n",
    "Armstrong(num,order)"
   ]
  },
  {
   "cell_type": "markdown",
   "id": "e987a5b9",
   "metadata": {},
   "source": [
    "##### Q5.Write a Python Program to Find Armstrong number in an interval ?"
   ]
  },
  {
   "cell_type": "code",
   "execution_count": 8,
   "id": "bdf8802f",
   "metadata": {},
   "outputs": [
    {
     "name": "stdout",
     "output_type": "stream",
     "text": [
      "enter lower limit value100\n",
      "enter Upper limit value1000\n",
      "125\n",
      "153\n",
      "216\n",
      "370\n",
      "371\n",
      "407\n",
      "729\n"
     ]
    }
   ],
   "source": [
    "lowerlimit = int(input(\"enter lower limit value\")) \n",
    "upperlimit = int(input(\"enter Upper limit value\"))\n",
    "for number in range(lowerlimit,upperlimit + 1):\n",
    "    sum =0\n",
    "    temp = number\n",
    "    while temp > 0:\n",
    "        digit = temp % 10\n",
    "        sum += digit ** 3\n",
    "        temp //= 10\n",
    "        if  number == sum:\n",
    "            print(number)\n",
    "    "
   ]
  },
  {
   "cell_type": "markdown",
   "id": "ab503d66",
   "metadata": {},
   "source": [
    "##### Q6.Write a Python Program to sum of natural numbers ?"
   ]
  },
  {
   "cell_type": "code",
   "execution_count": 9,
   "id": "f86e4dc2",
   "metadata": {},
   "outputs": [
    {
     "name": "stdout",
     "output_type": "stream",
     "text": [
      "Enter a number: 160\n",
      "Sum of 160 natural numbers is 12880.0\n"
     ]
    }
   ],
   "source": [
    "def sumOf_Naturalnos(num):\n",
    "    sum = num*((num+1)/2)\n",
    "    print(f'Sum of {num} natural numbers is {sum}')\n",
    "    \n",
    "num = int(input('Enter a number: '))\n",
    "sumOf_Naturalnos(num)"
   ]
  }
 ],
 "metadata": {
  "kernelspec": {
   "display_name": "Python 3 (ipykernel)",
   "language": "python",
   "name": "python3"
  },
  "language_info": {
   "codemirror_mode": {
    "name": "ipython",
    "version": 3
   },
   "file_extension": ".py",
   "mimetype": "text/x-python",
   "name": "python",
   "nbconvert_exporter": "python",
   "pygments_lexer": "ipython3",
   "version": "3.9.7"
  }
 },
 "nbformat": 4,
 "nbformat_minor": 5
}
