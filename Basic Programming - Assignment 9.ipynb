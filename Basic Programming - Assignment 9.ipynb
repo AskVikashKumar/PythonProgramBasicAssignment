{
 "cells": [
  {
   "cell_type": "code",
   "execution_count": 2,
   "id": "419143cf",
   "metadata": {},
   "outputs": [
    {
     "name": "stdout",
     "output_type": "stream",
     "text": [
      "Enter a Number: 456\n",
      "456 is a Not Disarium Number\n"
     ]
    }
   ],
   "source": [
    "# Q1.Write a Python Program to check if the given number is a Disarium Number ?\n",
    "'''\n",
    "A No is Disarium when the sum of its digit raised to power of their respective postions is equal to the number itself\n",
    "For e.g 456 = 4**1 + 5**2 + 6**3 =245 so not disarium while 175 = 1**1 + 7**2 + 5**3 = 175 is disarium no\n",
    "'''\n",
    "def IsDisariumNumber():\n",
    "    in_num = input('Enter a Number: ')\n",
    "    sum = 0\n",
    "    for item in range(len(in_num)):\n",
    "        sum = sum + int(in_num[item])**(item+1)\n",
    "    if sum == int(in_num):\n",
    "        print(f'{in_num} is a Disarium Number')\n",
    "    else:\n",
    "        print(f'{in_num} is a Not Disarium Number') \n",
    "\n",
    "IsDisariumNumber()"
   ]
  },
  {
   "cell_type": "code",
   "execution_count": 1,
   "id": "119af9a1",
   "metadata": {},
   "outputs": [
    {
     "data": {
      "text/plain": [
       "[1, 2, 3, 4, 5, 6, 7, 8, 9, 89, 135, 175, 518, 598]"
      ]
     },
     "execution_count": 1,
     "metadata": {},
     "output_type": "execute_result"
    }
   ],
   "source": [
    "# Q2.Write a Python Program to print all Disarium numbers between 1 to 100 ?\n",
    "def Disp_DisariumNos(start=0,end=100):\n",
    "    output_num = []\n",
    "    for number in range(start,end+1):\n",
    "        sum = 0\n",
    "        for item in range(len(str(number))):\n",
    "            sum = sum + int(str(number)[item])**(item+1)\n",
    "        if sum == number:\n",
    "            output_num.append(number)\n",
    "    return output_num\n",
    "            \n",
    "        \n",
    "Disp_DisariumNos(1,1000)"
   ]
  },
  {
   "cell_type": "code",
   "execution_count": 2,
   "id": "ebc361d3",
   "metadata": {},
   "outputs": [
    {
     "name": "stdout",
     "output_type": "stream",
     "text": [
      "Enter a Number: 150\n",
      "150 is not a Happy Number\n"
     ]
    }
   ],
   "source": [
    "# Q3.Write a Python Program to check if the given number is Happy Number ?\n",
    "'''\n",
    "A No is Happy when it leads to 1 after a sequence of steps wherein each step is replaced by the sum of squares of its digit\n",
    "For e.g no = 19 1**2 + 9**2 = 82 , 8**2 + 2**2 = 68 ,6**2 + 8**2 = 100 , 1**2+ 0**2+0**2 =1 so 19 happy no.\n",
    "'''\n",
    "def checkHappyNumber():\n",
    "    in_num = input('Enter a Number: ')\n",
    "    in_num_duplicate = in_num\n",
    "    trackNumber = set()   \n",
    "    while True:\n",
    "        if in_num != '1' and str(in_num) not in trackNumber:\n",
    "            trackNumber.add(in_num)\n",
    "            sum = 0\n",
    "            for ele in range(len((in_num))):\n",
    "                sum = sum + int(in_num[ele])**2\n",
    "            in_num = str(sum)\n",
    "        elif str(in_num) in trackNumber:\n",
    "            print(f'{in_num_duplicate} is not a Happy Number')\n",
    "            break\n",
    "        else:\n",
    "            print(f'{in_num_duplicate} is a Happy Number')\n",
    "            break\n",
    "\n",
    "checkHappyNumber()"
   ]
  },
  {
   "cell_type": "code",
   "execution_count": 3,
   "id": "b24ab55c",
   "metadata": {},
   "outputs": [
    {
     "name": "stdout",
     "output_type": "stream",
     "text": [
      "The Happy Numbers between 0 and 100 are [1, 7, 10, 13, 19, 23, 28, 31, 32, 44, 49, 68, 70, 79, 82, 86, 91, 94, 97, 100]\n"
     ]
    }
   ],
   "source": [
    "# Q4.Write a Python Program to print all Happy numbers between 1 and 100 ?\n",
    "def checkHappyNumber(start=0,end=100):\n",
    "    happyNumbersList = []\n",
    "    for in_num in range(start,end+1):\n",
    "        in_num = str(in_num)\n",
    "        inum_holder = in_num\n",
    "        trackNumber = set()   \n",
    "        while True:\n",
    "            if in_num != '1' and str(in_num) not in trackNumber:\n",
    "                trackNumber.add(in_num)\n",
    "                sum = 0\n",
    "                for ele in range(len((in_num))):\n",
    "                    sum = sum + int(in_num[ele])**2\n",
    "                in_num = str(sum)\n",
    "            elif str(in_num) in trackNumber:\n",
    "                break\n",
    "            else:\n",
    "                happyNumbersList.append(int(inum_holder))\n",
    "                break\n",
    "    print(f'The Happy Numbers between {start} and {end} are {happyNumbersList}')\n",
    "    \n",
    "checkHappyNumber(0,100)"
   ]
  },
  {
   "cell_type": "code",
   "execution_count": 4,
   "id": "e6f6ff6f",
   "metadata": {},
   "outputs": [
    {
     "name": "stdout",
     "output_type": "stream",
     "text": [
      "Enter a Number: 80\n",
      "80 is a Harshad Number\n"
     ]
    }
   ],
   "source": [
    "# Q5.Write a Python Program to determine whether the given number is a Harshad Number ?\n",
    "'''\n",
    "A No is Harshad(Niven) when an integer no in base 10 which is divisible by the sum of its digits \n",
    "'''\n",
    "def Is_HarshadNumber():\n",
    "    in_num = input('Enter a Number: ')\n",
    "    sum = 0\n",
    "    for item in range(len(in_num)):\n",
    "        sum = sum + int(in_num[item])\n",
    "    if int(in_num)%sum == 0:\n",
    "        print(f'{in_num} is a Harshad Number')\n",
    "    else:\n",
    "        print(f'{in_num} is a Not Harshad Number')\n",
    "        \n",
    "Is_HarshadNumber()"
   ]
  },
  {
   "cell_type": "code",
   "execution_count": null,
   "id": "97d144a8",
   "metadata": {},
   "outputs": [],
   "source": [
    "#### Q6.Write a Python Program to print all pronic numbers between 1 and 100 ?"
   ]
  },
  {
   "cell_type": "code",
   "execution_count": 5,
   "id": "8072f45b",
   "metadata": {},
   "outputs": [
    {
     "name": "stdout",
     "output_type": "stream",
     "text": [
      "[0, 2, 6, 12, 20, 30, 42, 56, 72, 90, 110, 132, 156, 182, 210, 240, 272, 306, 342, 380, 420, 462, 506, 552, 600, 650, 702, 756, 812, 870, 930, 992, 1056, 1122, 1190, 1260, 1332, 1406, 1482, 1560, 1640, 1722, 1806, 1892, 1980, 2070, 2162, 2256, 2352, 2450, 2550, 2652, 2756, 2862, 2970, 3080, 3192, 3306, 3422, 3540, 3660, 3782, 3906, 4032, 4160, 4290, 4422, 4556, 4692, 4830, 4970, 5112, 5256, 5402, 5550, 5700, 5852, 6006, 6162, 6320, 6480, 6642, 6806, 6972, 7140, 7310, 7482, 7656, 7832, 8010, 8190, 8372, 8556, 8742, 8930, 9120, 9312, 9506, 9702, 9900, 10100]\n"
     ]
    }
   ],
   "source": [
    "'''\n",
    "A No is Pronic (Rectangular Nos) when a number is the product of two consecutive integers,let say n is no it is product of x and x+1\n",
    "For e.g 12 = 3*4 is a pronic no while 15 = 3*5 not consecutive integer so not a pronic no\n",
    "'''\n",
    "def Disp_PronicNos(start=0,end=100):\n",
    "    outputList = []\n",
    "    for ele in range(start,end+1):\n",
    "        outputList.append((ele)*(ele+1))\n",
    "    print(outputList)\n",
    "                   \n",
    "Disp_PronicNos()"
   ]
  },
  {
   "cell_type": "code",
   "execution_count": null,
   "id": "d5c908f0",
   "metadata": {},
   "outputs": [],
   "source": []
  }
 ],
 "metadata": {
  "kernelspec": {
   "display_name": "Python 3 (ipykernel)",
   "language": "python",
   "name": "python3"
  },
  "language_info": {
   "codemirror_mode": {
    "name": "ipython",
    "version": 3
   },
   "file_extension": ".py",
   "mimetype": "text/x-python",
   "name": "python",
   "nbconvert_exporter": "python",
   "pygments_lexer": "ipython3",
   "version": "3.9.7"
  }
 },
 "nbformat": 4,
 "nbformat_minor": 5
}
