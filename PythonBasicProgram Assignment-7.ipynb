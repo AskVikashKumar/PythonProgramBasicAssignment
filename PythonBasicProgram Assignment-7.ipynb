{
 "cells": [
  {
   "cell_type": "markdown",
   "id": "f1c2fb95",
   "metadata": {},
   "source": [
    "#### Q1.Write a Python Program to find sum of Array ?"
   ]
  },
  {
   "cell_type": "code",
   "execution_count": 4,
   "id": "8c1627c9",
   "metadata": {},
   "outputs": [
    {
     "name": "stdout",
     "output_type": "stream",
     "text": [
      "Sum of array:  197\n"
     ]
    }
   ],
   "source": [
    "l = [1,2,3,-412, 123, 369, 111]\n",
    "Def_arraySum = 0\n",
    "for i in l:\n",
    "    Def_arraySum += i\n",
    "    \n",
    "print(\"Sum of array: \", Def_arraySum)"
   ]
  },
  {
   "cell_type": "markdown",
   "id": "d1fae6f0",
   "metadata": {},
   "source": [
    "#### Q2. Write a Python Program to find Largest element in an Array ?"
   ]
  },
  {
   "cell_type": "code",
   "execution_count": 5,
   "id": "5926ca11",
   "metadata": {},
   "outputs": [
    {
     "data": {
      "text/plain": [
       "741"
      ]
     },
     "execution_count": 5,
     "metadata": {},
     "output_type": "execute_result"
    }
   ],
   "source": [
    "e = [1,53,22,3,-412, 123, 369,741]\n",
    "Def_arraylarge = -9999999999999\n",
    "\n",
    "for i in e:\n",
    "    if i > Def_arraylarge:\n",
    "        Def_arraylarge = i\n",
    "\n",
    "Def_arraylarge"
   ]
  },
  {
   "cell_type": "markdown",
   "id": "c69cac30",
   "metadata": {},
   "source": [
    "#### Q3. Write a Python Program for array rotation ?"
   ]
  },
  {
   "cell_type": "code",
   "execution_count": 7,
   "id": "29e8c8d0",
   "metadata": {},
   "outputs": [
    {
     "name": "stdout",
     "output_type": "stream",
     "text": [
      "Enter the Array: 45,8,52,65,95,526\n",
      "The Reverse of Array (45, 8, 52, 65, 95, 526) is (526, 95, 65, 52, 8, 45)\n"
     ]
    }
   ],
   "source": [
    "Def_arrrotate = eval(input(\"Enter the Array: \"))\n",
    "print(f\"The Reverse of Array {Def_arrrotate} is {Def_arrrotate[::-1]}\")"
   ]
  },
  {
   "cell_type": "markdown",
   "id": "e71991e0",
   "metadata": {},
   "source": [
    "#### Q4. Write a Python Program to Split the array and add the first part to the end ?"
   ]
  },
  {
   "cell_type": "code",
   "execution_count": 8,
   "id": "b314ad96",
   "metadata": {},
   "outputs": [
    {
     "name": "stdout",
     "output_type": "stream",
     "text": [
      "The Sum of First and Last Elements of Array [1, 53, 22, 3, -412, 123, 369, 741] is 742\n"
     ]
    }
   ],
   "source": [
    "#Here I have used question no 2 array list \n",
    "print(f\"The Sum of First and Last Elements of Array {e} is {e[0]+e[-1]}\")"
   ]
  },
  {
   "cell_type": "markdown",
   "id": "a120a3c3",
   "metadata": {},
   "source": [
    "#### Q5. Write a Python Program to check if given array is Monotonic ?"
   ]
  },
  {
   "cell_type": "code",
   "execution_count": 10,
   "id": "118b9773",
   "metadata": {},
   "outputs": [
    {
     "name": "stdout",
     "output_type": "stream",
     "text": [
      "Enter the Array: 7,85,555,5669,82\n",
      "Array (7, 85, 555, 5669, 82) is Not Monotonic\n"
     ]
    }
   ],
   "source": [
    "def chk_arrmonotonic():\n",
    "    in_arr = eval(input(\"Enter the Array: \"))\n",
    "    if(all(in_arr[i]<=in_arr[i+1] for i in range(len(in_arr)-1)) or all(in_arr[i]>=in_arr[i+1] for i in range(len(in_arr)-1))):\n",
    "        print(f'Array {in_arr} is Monotonic')\n",
    "    else:\n",
    "        print(f'Array {in_arr} is Not Monotonic')\n",
    "\n",
    "chk_arrmonotonic()"
   ]
  },
  {
   "cell_type": "code",
   "execution_count": 11,
   "id": "ab861176",
   "metadata": {},
   "outputs": [
    {
     "name": "stdout",
     "output_type": "stream",
     "text": [
      "Enter the Array: 1,2,3,4,5\n",
      "Array (1, 2, 3, 4, 5) is Monotonic\n"
     ]
    }
   ],
   "source": [
    "chk_arrmonotonic()"
   ]
  }
 ],
 "metadata": {
  "kernelspec": {
   "display_name": "Python 3 (ipykernel)",
   "language": "python",
   "name": "python3"
  },
  "language_info": {
   "codemirror_mode": {
    "name": "ipython",
    "version": 3
   },
   "file_extension": ".py",
   "mimetype": "text/x-python",
   "name": "python",
   "nbconvert_exporter": "python",
   "pygments_lexer": "ipython3",
   "version": "3.9.7"
  }
 },
 "nbformat": 4,
 "nbformat_minor": 5
}
