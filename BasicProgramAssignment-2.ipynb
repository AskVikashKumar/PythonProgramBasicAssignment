{
 "cells": [
  {
   "cell_type": "raw",
   "id": "e2ba863e",
   "metadata": {},
   "source": [
    "Q1.\tWrite a Python program to convert kilometers to miles?"
   ]
  },
  {
   "cell_type": "code",
   "execution_count": 1,
   "id": "51f06ffa",
   "metadata": {},
   "outputs": [
    {
     "name": "stdout",
     "output_type": "stream",
     "text": [
      "Enter value in kilometers (type float or int): 89\n",
      "Kilometers  to  miles (89.0, 55.302019)\n"
     ]
    }
   ],
   "source": [
    "# Taking kilometers input from the user\n",
    "kilometers = float(input(\"Enter value in kilometers (type float or int): \"))\n",
    "# conversion factor\n",
    "conv_fac = 0.621371\n",
    "# calculate miles\n",
    "miles = kilometers * conv_fac\n",
    "print(\"Kilometers  to  miles\" ,(kilometers,miles))"
   ]
  },
  {
   "cell_type": "raw",
   "id": "501c4a23",
   "metadata": {},
   "source": [
    "Q2.\tWrite a Python program to convert Celsius to Fahrenheit?"
   ]
  },
  {
   "cell_type": "code",
   "execution_count": 3,
   "id": "fce7ffb0",
   "metadata": {},
   "outputs": [
    {
     "name": "stdout",
     "output_type": "stream",
     "text": [
      "Enter value in Celsius (type float or int): 98\n",
      "Celsius  to  Fahrenheit (98.0, 208.4)\n"
     ]
    }
   ],
   "source": [
    "# Taking Celsius input from the user\n",
    "celsius = float(input(\"Enter value in Celsius (type float or int): \"))\n",
    "# calculate Fahrenheit\n",
    "fahrenheit = (celsius * 1.8) + 32\n",
    "print(\"Celsius  to  Fahrenheit\" ,(celsius,fahrenheit))"
   ]
  },
  {
   "cell_type": "raw",
   "id": "ce23d1a4",
   "metadata": {},
   "source": [
    "Q3.\tWrite a Python program to display calendar?"
   ]
  },
  {
   "cell_type": "code",
   "execution_count": 4,
   "id": "875ad836",
   "metadata": {},
   "outputs": [
    {
     "name": "stdout",
     "output_type": "stream",
     "text": [
      "Enter Year (only type int): 2021\n",
      "Enter Month Number between (1-12)(only type int):12\n",
      "\n",
      "    December 2021\n",
      "Mo Tu We Th Fr Sa Su\n",
      "       1  2  3  4  5\n",
      " 6  7  8  9 10 11 12\n",
      "13 14 15 16 17 18 19\n",
      "20 21 22 23 24 25 26\n",
      "27 28 29 30 31\n",
      "\n"
     ]
    }
   ],
   "source": [
    "#importing in built calendar\n",
    "import calendar\n",
    "yy_val = int(input(\"Enter Year (only type int): \"))\n",
    "mm_val = int(input(\"Enter Month Number between (1-12)(only type int):\"))\n",
    "y = yy_val\n",
    "m = mm_val\n",
    "print(\"\\n\", calendar.month(y, m))"
   ]
  },
  {
   "cell_type": "raw",
   "id": "d3d4117b",
   "metadata": {},
   "source": [
    "Q4.\tWrite a Python program to solve quadratic equation?"
   ]
  },
  {
   "cell_type": "code",
   "execution_count": 5,
   "id": "8224f9b7",
   "metadata": {},
   "outputs": [
    {
     "name": "stdout",
     "output_type": "stream",
     "text": [
      "Enter first number (only type int or float): 2\n",
      "Enter second number(only one type int or float): 2.5\n",
      "Enter third number(only one type int or float): 2.5\n",
      "The quadratic solution is: (-0.625-0.9270248108869579j) (-0.625+0.9270248108869579j)\n"
     ]
    }
   ],
   "source": [
    "import cmath\n",
    "a = float(input(\"Enter first number (only type int or float): \"))\n",
    "b = float(input(\"Enter second number(only one type int or float): \"))\n",
    "c = float(input(\"Enter third number(only one type int or float): \"))\n",
    "# calculate the discriminant\n",
    "d = (b**2) - (4*a*c)\n",
    "# find two solutions\n",
    "sol1 = (-b-cmath.sqrt(d))/(2*a)\n",
    "sol2 = (-b+cmath.sqrt(d))/(2*a)\n",
    "print(\"The quadratic solution is:\",sol1,sol2)"
   ]
  },
  {
   "cell_type": "raw",
   "id": "057cf587",
   "metadata": {},
   "source": [
    "Q5.\tWrite a Python program to swap two variables without temp variable?"
   ]
  },
  {
   "cell_type": "code",
   "execution_count": 6,
   "id": "ddd6ad2c",
   "metadata": {},
   "outputs": [
    {
     "name": "stdout",
     "output_type": "stream",
     "text": [
      "Enter first number (only type int,float): 25\n",
      "Enter second number (only type int,float): 26.5\n",
      "Before swapping Value of x and y is:-  25.0 26.5\n",
      "After swapping Value of x and y is:-  26.5 25.0\n"
     ]
    }
   ],
   "source": [
    "x = float(input(\"Enter first number (only type int,float): \"))\n",
    "y = float(input(\"Enter second number (only type int,float): \"))\n",
    "print (\"Before swapping Value of x and y is:- \",x,y)\n",
    "x = x+y\n",
    "y = x-y\n",
    "x = x-y\n",
    "print (\"After swapping Value of x and y is:- \",x,y)"
   ]
  },
  {
   "cell_type": "code",
   "execution_count": null,
   "id": "d2fa4776",
   "metadata": {},
   "outputs": [],
   "source": []
  }
 ],
 "metadata": {
  "kernelspec": {
   "display_name": "Python 3 (ipykernel)",
   "language": "python",
   "name": "python3"
  },
  "language_info": {
   "codemirror_mode": {
    "name": "ipython",
    "version": 3
   },
   "file_extension": ".py",
   "mimetype": "text/x-python",
   "name": "python",
   "nbconvert_exporter": "python",
   "pygments_lexer": "ipython3",
   "version": "3.9.7"
  }
 },
 "nbformat": 4,
 "nbformat_minor": 5
}
