{
 "cells": [
  {
   "cell_type": "markdown",
   "id": "5f9ec3b3",
   "metadata": {},
   "source": [
    "##### Q1. Write a Python Program to Add two Matrices ?"
   ]
  },
  {
   "cell_type": "code",
   "execution_count": 1,
   "id": "db3d10bf",
   "metadata": {},
   "outputs": [
    {
     "name": "stdout",
     "output_type": "stream",
     "text": [
      "Enter the Number of rows : 3\n",
      "Enter the Number of Columns: 3\n",
      "Enter the elements of First Matrix:\n",
      "6\n",
      "2\n",
      "4\n",
      "1\n",
      "2\n",
      "4\n",
      "1\n",
      "1\n",
      "1\n",
      "First Matrix is: \n",
      "[6, 2, 4]\n",
      "[1, 2, 4]\n",
      "[1, 1, 1]\n",
      "Enter the elements of Second Matrix:\n",
      "4\n",
      "5\n",
      "6\n",
      "4\n",
      "1\n",
      "1\n",
      "6\n",
      "9\n",
      "6\n",
      "[4, 5, 6]\n",
      "[4, 1, 1]\n",
      "[6, 9, 6]\n",
      "The Sum of Above two Matrices is : \n",
      "[10, 7, 10]\n",
      "[5, 3, 5]\n",
      "[7, 10, 7]\n"
     ]
    }
   ],
   "source": [
    "rows = int(input(\"Enter the Number of rows : \" ))\n",
    "column = int(input(\"Enter the Number of Columns: \"))\n",
    "\n",
    "print(\"Enter the elements of First Matrix:\")\n",
    "matrix_a= [[int(input()) for i in range(column)] for i in range(rows)]\n",
    "print(\"First Matrix is: \")\n",
    "for n in matrix_a:\n",
    "    print(n)\n",
    "\n",
    "print(\"Enter the elements of Second Matrix:\")\n",
    "matrix_b= [[int(input()) for i in range(column)] for i in range(rows)]\n",
    "for n in matrix_b:\n",
    "    print(n)\n",
    "    \n",
    "result=[[0 for i in range(column)] for i in range(rows)]\n",
    "\n",
    "for i in range(rows):\n",
    "    for j in range(column):\n",
    "        result[i][j] = matrix_a[i][j]+matrix_b[i][j]\n",
    "\n",
    "print(\"The Sum of Above two Matrices is : \")\n",
    "for r in result:\n",
    "    print(r)"
   ]
  },
  {
   "cell_type": "markdown",
   "id": "d366d0ed",
   "metadata": {},
   "source": [
    "##### Q2. Write a Python Program to Multiply two Matrices ?"
   ]
  },
  {
   "cell_type": "code",
   "execution_count": 2,
   "id": "8138eed6",
   "metadata": {},
   "outputs": [
    {
     "name": "stdout",
     "output_type": "stream",
     "text": [
      "Enter the Number of rows  for the first matrix: 2\n",
      "Enter the Number of Columns for the first matrix: 3\n",
      "Enter the elements of First Matrix:\n",
      "4\n",
      "5\n",
      "8\n",
      "9\n",
      "5\n",
      "1\n",
      "First Matrix is: \n",
      "[4, 5, 8]\n",
      "[9, 5, 1]\n",
      "Enter the Number of Columns for the second matrix: 2\n",
      "Enter the elements of Second Matrix:\n",
      "7\n",
      "8\n",
      "6\n",
      "7\n",
      "1\n",
      "1\n",
      "[7, 8]\n",
      "[6, 7]\n",
      "[1, 1]\n",
      "\n",
      "Matrix_a X Matrix_b is: \n",
      "[66, 75]\n",
      "[94, 108]\n"
     ]
    }
   ],
   "source": [
    "rows_a = int(input(\"Enter the Number of rows  for the first matrix: \" ))\n",
    "column_a = int(input(\"Enter the Number of Columns for the first matrix: \"))\n",
    "\n",
    "print(\"Enter the elements of First Matrix:\")\n",
    "matrix_a= [[int(input()) for i in range(column_a)] for i in range(rows_a)]\n",
    "\n",
    "print(\"First Matrix is: \")\n",
    "for n in matrix_a:\n",
    "    print(n)\n",
    "#the number of columns of first matrix is equal to the number of rows of second matrix\n",
    "column_b = int(input(\"Enter the Number of Columns for the second matrix: \"))\n",
    "\n",
    "print(\"Enter the elements of Second Matrix:\")\n",
    "\n",
    "matrix_b= [[int(input()) for i in range(column_b)] for i in range(column_a)]\n",
    "for n in matrix_b:\n",
    "    print(n)\n",
    "    \n",
    "result=[[0 for i in range(column_b)] for i in range(rows_a)]\n",
    "\n",
    "for i in range(len(matrix_a)):\n",
    "    for j in range(len(matrix_b[0])):\n",
    "        for k in range(len(matrix_b)):\n",
    "            result [i][j]+=matrix_a[i][k]*matrix_b[k][j]\n",
    "print(\"\\nMatrix_a X Matrix_b is: \")\n",
    "for r in result:\n",
    "    print(r)"
   ]
  },
  {
   "cell_type": "markdown",
   "id": "97faa157",
   "metadata": {},
   "source": [
    "##### Q3. Write a Python Program to transpose a Matrix ?"
   ]
  },
  {
   "cell_type": "code",
   "execution_count": 3,
   "id": "a6d9c8cf",
   "metadata": {},
   "outputs": [
    {
     "name": "stdout",
     "output_type": "stream",
     "text": [
      "Enter the Number of rows : 3\n",
      "Enter the Number of Columns: 3\n",
      "Enter the elements of Matrix:\n",
      "1\n",
      "2\n",
      "3\n",
      "4\n",
      "5\n",
      "6\n",
      "7\n",
      "8\n",
      "9\n",
      "-------Your  Matrix is---------\n",
      "[1, 2, 3]\n",
      "[4, 5, 6]\n",
      "[7, 8, 9]\n",
      "Transpose matrix is: \n",
      "[1, 4, 7]\n",
      "[2, 5, 8]\n",
      "[3, 6, 9]\n"
     ]
    }
   ],
   "source": [
    "rows = int(input(\"Enter the Number of rows : \" ))\n",
    "column = int(input(\"Enter the Number of Columns: \"))\n",
    "\n",
    "print(\"Enter the elements of Matrix:\")\n",
    "matrix= [[int(input()) for i in range(column)] for i in range(rows)]\n",
    "print(\"-------Your  Matrix is---------\")\n",
    "for n in matrix:\n",
    "    print(n)\n",
    "\n",
    "#result matrix of column*row  dimension\n",
    "\n",
    "result =[[0 for i in range(rows)] for j in range(column)]\n",
    "\n",
    "#transpose the matrix\n",
    "for r in range(rows):\n",
    "   \n",
    "   for c in range(column):\n",
    "       #here we are grabbing the row data of matrix and putting it in the column on the result\n",
    "       result[c][r] = matrix[r][c]\n",
    "\n",
    "print(\"Transpose matrix is: \")\n",
    "for r in result:\n",
    "    print(r)"
   ]
  },
  {
   "cell_type": "markdown",
   "id": "aba6f989",
   "metadata": {},
   "source": [
    "##### Q4.Write a Python Program to Sort Words in Alphabetic Order?"
   ]
  },
  {
   "cell_type": "code",
   "execution_count": 4,
   "id": "6f2ca84d",
   "metadata": {},
   "outputs": [
    {
     "name": "stdout",
     "output_type": "stream",
     "text": [
      "Enter a string: In our program above  we going to sort entered list of word\n",
      "In\n",
      "above\n",
      "entered\n",
      "going\n",
      "list\n",
      "of\n",
      "our\n",
      "program\n",
      "sort\n",
      "to\n",
      "we\n",
      "word\n"
     ]
    }
   ],
   "source": [
    "User_string = input(\"Enter a string: \")  \n",
    "sortedstrin_word = User_string.split()  \n",
    "sortedstrin_word.sort()  \n",
    "for word in sortedstrin_word:  \n",
    "     print(word)"
   ]
  },
  {
   "cell_type": "markdown",
   "id": "53f31856",
   "metadata": {},
   "source": [
    "##### Q5. Write a Python Program to remove Punctuations From a String ?"
   ]
  },
  {
   "cell_type": "code",
   "execution_count": 6,
   "id": "1c8f53a9",
   "metadata": {},
   "outputs": [
    {
     "name": "stdout",
     "output_type": "stream",
     "text": [
      "hi what is the weather like\n"
     ]
    }
   ],
   "source": [
    "# .maketrans() method here takes three arguments, the first two of which are empty strings, and the third is the list of punctuation we want to remove\n",
    "import string\n",
    "a_string = '!hi. wh?at is the weat[h]er lik?e.'\n",
    "new_string = a_string.translate(str.maketrans('', '', string.punctuation))\n",
    "print(new_string)"
   ]
  },
  {
   "cell_type": "code",
   "execution_count": 7,
   "id": "c9c8c7c3",
   "metadata": {},
   "outputs": [
    {
     "name": "stdout",
     "output_type": "stream",
     "text": [
      "!\"#$%&'()*+,-./:;<=>?@[\\]^_`{|}~\n"
     ]
    }
   ],
   "source": [
    "print(string.punctuation)"
   ]
  },
  {
   "cell_type": "code",
   "execution_count": null,
   "id": "8dd437ff",
   "metadata": {},
   "outputs": [],
   "source": []
  }
 ],
 "metadata": {
  "kernelspec": {
   "display_name": "Python 3 (ipykernel)",
   "language": "python",
   "name": "python3"
  },
  "language_info": {
   "codemirror_mode": {
    "name": "ipython",
    "version": 3
   },
   "file_extension": ".py",
   "mimetype": "text/x-python",
   "name": "python",
   "nbconvert_exporter": "python",
   "pygments_lexer": "ipython3",
   "version": "3.9.7"
  }
 },
 "nbformat": 4,
 "nbformat_minor": 5
}
