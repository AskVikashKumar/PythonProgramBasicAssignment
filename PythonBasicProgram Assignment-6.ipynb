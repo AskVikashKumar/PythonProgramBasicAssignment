{
 "cells": [
  {
   "cell_type": "markdown",
   "id": "5e57c13c",
   "metadata": {},
   "source": [
    "#### Q1. Write a Python Program to Display Fibonacci Sequence Using Recursion?"
   ]
  },
  {
   "cell_type": "code",
   "execution_count": 19,
   "id": "56afb489",
   "metadata": {},
   "outputs": [
    {
     "name": "stdout",
     "output_type": "stream",
     "text": [
      "How many terms? 10\n",
      "Fibonacci sequence:\n",
      "0\n",
      "1\n",
      "1\n",
      "2\n",
      "3\n",
      "5\n",
      "8\n",
      "13\n",
      "21\n",
      "34\n"
     ]
    }
   ],
   "source": [
    "def recur_fibo(n):  \n",
    "       if n <= 1:  \n",
    "           return n  \n",
    "       else:  \n",
    "           return(recur_fibo(n-1) + recur_fibo(n-2))  \n",
    "# take input from the user  \n",
    "nterms = int(input(\"How many terms? \"))  \n",
    "# check if the number of terms is valid  \n",
    "if nterms <= 0:  \n",
    "       print(\"Plese enter a positive integer\")  \n",
    "else:  \n",
    "       print(\"Fibonacci sequence:\")  \n",
    "       for i in range(nterms):  \n",
    "           print(recur_fibo(i))  "
   ]
  },
  {
   "cell_type": "markdown",
   "id": "4f5285f0",
   "metadata": {},
   "source": [
    "##### Q2. Write a Python Program to Find Factorial of Number Using Recursion?"
   ]
  },
  {
   "cell_type": "code",
   "execution_count": 20,
   "id": "91eb7adf",
   "metadata": {},
   "outputs": [
    {
     "name": "stdout",
     "output_type": "stream",
     "text": [
      "Enter a number: 5\n",
      "The factorial of 5 is 120\n"
     ]
    }
   ],
   "source": [
    "def recur_factorial(n):  \n",
    "       if n == 1:  \n",
    "           return n  \n",
    "       else:  \n",
    "           return n*recur_factorial(n-1)  \n",
    "# take input from the user  \n",
    "num = int(input(\"Enter a number: \"))  \n",
    "# check is the number is negative  \n",
    "if num < 0:  \n",
    "       print(\"Sorry, factorial does not exist for negative numbers\")  \n",
    "elif num == 0:  \n",
    "       print(\"The factorial of 0 is 1\")  \n",
    "else:  \n",
    "       print(\"The factorial of\",num,\"is\",recur_factorial(num))  "
   ]
  },
  {
   "cell_type": "markdown",
   "id": "4777445f",
   "metadata": {},
   "source": [
    "#### Q3. Write a Python Program to calculate your Body Mass Index?"
   ]
  },
  {
   "cell_type": "code",
   "execution_count": 3,
   "id": "37662d1f",
   "metadata": {},
   "outputs": [
    {
     "name": "stdout",
     "output_type": "stream",
     "text": [
      "Your height in metres:1.8\n",
      "Your weight in kilograms:70\n",
      "Your BMI is 21.6 which means you are normal.\n"
     ]
    }
   ],
   "source": [
    "height = float(input(\"Your height in metres:\"))\n",
    "weight = int(input(\"Your weight in kilograms:\"))\n",
    "bmi = round(weight/ (height * height), 1)\n",
    "\n",
    "if bmi <= 18.5:\n",
    "     print('Your BMI is', bmi, 'which means you are underweight.')\n",
    "\n",
    "elif bmi > 18.5 and bmi < 25:\n",
    "     print('Your BMI is', bmi, 'which means you are normal.')\n",
    "\n",
    "elif bmi > 25 and bmi < 30:\n",
    "     print('Your BMI is', bmi, 'which means you are overweight.')\n",
    "\n",
    "elif bmi > 30:\n",
    "     print('Your BMI is', bmi, 'which means you are obese.')\n",
    "\n",
    "else:\n",
    "    print('There is an error with your input')"
   ]
  },
  {
   "cell_type": "markdown",
   "id": "649a02c3",
   "metadata": {},
   "source": [
    "##### Q4. Write a Python Program to calculate the natural logarithm of any number?"
   ]
  },
  {
   "cell_type": "code",
   "execution_count": 7,
   "id": "ca9a4b1b",
   "metadata": {},
   "outputs": [
    {
     "name": "stdout",
     "output_type": "stream",
     "text": [
      "Enter the number: 10\n",
      "The logarithm value of: 10 2.302585092994046\n"
     ]
    }
   ],
   "source": [
    "import math\n",
    "\n",
    "try:\n",
    "    num = int(input(\"Enter the number: \"))\n",
    "except Exception as e:\n",
    "    print(e)\n",
    "else:\n",
    "    print(\"The logarithm value of:\",format(num),math.log(num))"
   ]
  },
  {
   "cell_type": "markdown",
   "id": "de605e19",
   "metadata": {},
   "source": [
    "#### Q5. Write a Python Program for cube sum of first n natural numbers?"
   ]
  },
  {
   "cell_type": "code",
   "execution_count": 4,
   "id": "b078fb2d",
   "metadata": {},
   "outputs": [
    {
     "name": "stdout",
     "output_type": "stream",
     "text": [
      "enter  natural number(int only): 20\n",
      "Sum of cubes of first 20 natural numbers:  44100\n"
     ]
    }
   ],
   "source": [
    "def CubeSum(n) :\n",
    "    return (n*(n+1)//2)**2\n",
    "n=int(input(\"enter  natural number(int only): \"))\n",
    "print(\"Sum of cubes of first {} natural numbers: \".format(n),CubeSum(n))"
   ]
  }
 ],
 "metadata": {
  "kernelspec": {
   "display_name": "Python 3 (ipykernel)",
   "language": "python",
   "name": "python3"
  },
  "language_info": {
   "codemirror_mode": {
    "name": "ipython",
    "version": 3
   },
   "file_extension": ".py",
   "mimetype": "text/x-python",
   "name": "python",
   "nbconvert_exporter": "python",
   "pygments_lexer": "ipython3",
   "version": "3.9.7"
  }
 },
 "nbformat": 4,
 "nbformat_minor": 5
}
